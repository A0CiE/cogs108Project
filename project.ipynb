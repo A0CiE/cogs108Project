{
 "cells": [
  {
   "cell_type": "code",
   "execution_count": 2,
   "metadata": {
    "collapsed": true
   },
   "outputs": [],
   "source": [
    "import numpy as np\n",
    "import pandas as pd"
   ]
  },
  {
   "cell_type": "code",
   "execution_count": 8,
   "metadata": {
    "collapsed": true
   },
   "outputs": [],
   "source": [
    "data = pd.read_csv('data/WA_Fn-UseC_-HR-Employee-Attrition.csv')"
   ]
  },
  {
   "cell_type": "code",
   "execution_count": 9,
   "metadata": {},
   "outputs": [
    {
     "name": "stdout",
     "output_type": "stream",
     "text": [
      "Age                         1470\n",
      "Attrition                   1470\n",
      "BusinessTravel              1470\n",
      "DailyRate                   1470\n",
      "Department                  1470\n",
      "DistanceFromHome            1470\n",
      "Education                   1470\n",
      "EducationField              1470\n",
      "EmployeeCount               1470\n",
      "EmployeeNumber              1470\n",
      "EnvironmentSatisfaction     1470\n",
      "Gender                      1470\n",
      "HourlyRate                  1470\n",
      "JobInvolvement              1470\n",
      "JobLevel                    1470\n",
      "JobRole                     1470\n",
      "JobSatisfaction             1470\n",
      "MaritalStatus               1470\n",
      "MonthlyIncome               1470\n",
      "MonthlyRate                 1470\n",
      "NumCompaniesWorked          1470\n",
      "Over18                      1470\n",
      "OverTime                    1470\n",
      "PercentSalaryHike           1470\n",
      "PerformanceRating           1470\n",
      "RelationshipSatisfaction    1470\n",
      "StandardHours               1470\n",
      "StockOptionLevel            1470\n",
      "TotalWorkingYears           1470\n",
      "TrainingTimesLastYear       1470\n",
      "WorkLifeBalance             1470\n",
      "YearsAtCompany              1470\n",
      "YearsInCurrentRole          1470\n",
      "YearsSinceLastPromotion     1470\n",
      "YearsWithCurrManager        1470\n",
      "dtype: int64\n"
     ]
    }
   ],
   "source": [
    "print(data.count())"
   ]
  },
  {
   "cell_type": "code",
   "execution_count": 30,
   "metadata": {},
   "outputs": [
    {
     "name": "stdout",
     "output_type": "stream",
     "text": [
      "['Sales' 'Research & Development' 'Human Resources']\n",
      "[2 1 4 3 5]\n",
      "['Life Sciences' 'Other' 'Medical' 'Marketing' 'Technical Degree'\n",
      " 'Human Resources']\n"
     ]
    }
   ],
   "source": [
    "print(data['Department'].unique())\n",
    "print(data['Education'].unique())\n",
    "print(data['EducationField'].unique())"
   ]
  },
  {
   "cell_type": "code",
   "execution_count": 7,
   "metadata": {},
   "outputs": [
    {
     "name": "stdout",
     "output_type": "stream",
     "text": [
      "   Age Attrition BusinessTravel  DailyRate Department  DistanceFromHome  \\\n",
      "0   41       Yes  Travel_Rarely       1102      Sales                 1   \n",
      "\n",
      "   Education EducationField  EmployeeCount  EmployeeNumber  \\\n",
      "0          2  Life Sciences              1               1   \n",
      "\n",
      "           ...           RelationshipSatisfaction StandardHours  \\\n",
      "0          ...                                  1            80   \n",
      "\n",
      "   StockOptionLevel  TotalWorkingYears  TrainingTimesLastYear WorkLifeBalance  \\\n",
      "0                 0                  8                      0               1   \n",
      "\n",
      "   YearsAtCompany YearsInCurrentRole  YearsSinceLastPromotion  \\\n",
      "0               6                  4                        0   \n",
      "\n",
      "   YearsWithCurrManager  \n",
      "0                     5  \n",
      "\n",
      "[1 rows x 35 columns]\n"
     ]
    }
   ],
   "source": [
    "print(data.head(1))"
   ]
  },
  {
   "cell_type": "code",
   "execution_count": 17,
   "metadata": {
    "collapsed": true
   },
   "outputs": [],
   "source": [
    "arr = [1, 2, 3, 4, 5, 6, 7, 8]\n",
    "rnd = np.random.shuffle(arr)"
   ]
  },
  {
   "cell_type": "code",
   "execution_count": 19,
   "metadata": {},
   "outputs": [
    {
     "name": "stdout",
     "output_type": "stream",
     "text": [
      "[4, 1, 7, 3, 8, 5, 6, 2]\n"
     ]
    }
   ],
   "source": [
    "print(arr)"
   ]
  },
  {
   "cell_type": "code",
   "execution_count": 5,
   "metadata": {},
   "outputs": [],
   "source": [
    "data_stack = pd.read_csv('data/survey_results_public.csv')"
   ]
  },
  {
   "cell_type": "code",
   "execution_count": 14,
   "metadata": {},
   "outputs": [
    {
     "name": "stdout",
     "output_type": "stream",
     "text": [
      "51392\n",
      "0    NaN\n",
      "1    NaN\n",
      "2    NaN\n",
      "3    NaN\n",
      "4    NaN\n",
      "Name: YearsCodedJobPast, dtype: object\n"
     ]
    }
   ],
   "source": [
    "#print data_stack.count()\n",
    "print len(data_stack)\n",
    "print data_stack.YearsCodedJobPast.head()"
   ]
  },
  {
   "cell_type": "code",
   "execution_count": 29,
   "metadata": {
    "scrolled": false
   },
   "outputs": [
    {
     "name": "stdout",
     "output_type": "stream",
     "text": [
      "['No' 'Yes, full-time' 'Yes, part-time' 'I prefer not to say']\n",
      "['Secondary school'\n",
      " \"Some college/university study without earning a bachelor's degree\"\n",
      " \"Bachelor's degree\" 'Doctoral degree' \"Master's degree\"\n",
      " 'Professional degree' 'Primary/elementary school' 'I prefer not to answer'\n",
      " 'I never completed any formal education']\n"
     ]
    }
   ],
   "source": [
    "print data_stack.University.unique()\n",
    "print data_stack.FormalEducation.unique()"
   ]
  },
  {
   "cell_type": "code",
   "execution_count": 28,
   "metadata": {},
   "outputs": [
    {
     "name": "stdout",
     "output_type": "stream",
     "text": [
      "Respondent                     51392\n",
      "Professional                   51392\n",
      "ProgramHobby                   51392\n",
      "Country                        51392\n",
      "University                     51392\n",
      "EmploymentStatus               51392\n",
      "FormalEducation                51392\n",
      "MajorUndergrad                 42841\n",
      "HomeRemote                     44008\n",
      "CompanySize                    38922\n",
      "CompanyType                    38823\n",
      "YearsProgram                   51145\n",
      "YearsCodedJob                  40890\n",
      "YearsCodedJobPast                974\n",
      "DeveloperType                  36125\n",
      "WebDeveloperType               10696\n",
      "MobileDeveloperType             1553\n",
      "NonDeveloperType                4890\n",
      "CareerSatisfaction             42695\n",
      "JobSatisfaction                40376\n",
      "ExCoderReturn                    923\n",
      "ExCoderNotForMe                  921\n",
      "ExCoderBalance                   923\n",
      "ExCoder10Years                   917\n",
      "ExCoderBelonged                  928\n",
      "ExCoderSkills                    935\n",
      "ExCoderWillNotCode               922\n",
      "ExCoderActive                    930\n",
      "PronounceGIF                   51008\n",
      "ProblemSolving                 31293\n",
      "                               ...  \n",
      "InfluenceRecruitment           21586\n",
      "InfluenceCommunication         21578\n",
      "StackOverflowDescribes         36932\n",
      "StackOverflowSatisfaction      36592\n",
      "StackOverflowDevices           35203\n",
      "StackOverflowFoundAnswer       34290\n",
      "StackOverflowCopiedCode        33909\n",
      "StackOverflowJobListing        33468\n",
      "StackOverflowCompanyPage       33435\n",
      "StackOverflowJobSearch         33415\n",
      "StackOverflowNewQuestion       33618\n",
      "StackOverflowAnswer            33556\n",
      "StackOverflowMetaChat          33407\n",
      "StackOverflowAdsRelevant       30817\n",
      "StackOverflowAdsDistracting    31737\n",
      "StackOverflowModeration        30129\n",
      "StackOverflowCommunity         32410\n",
      "StackOverflowHelpful           33946\n",
      "StackOverflowBetter            33650\n",
      "StackOverflowWhatDo            33369\n",
      "StackOverflowMakeMoney         31062\n",
      "Gender                         35047\n",
      "HighestEducationParents        34938\n",
      "Race                           33033\n",
      "SurveyLong                     34720\n",
      "QuestionsInteresting           34536\n",
      "QuestionsConfusing             34419\n",
      "InterestedAnswers              34612\n",
      "Salary                         12891\n",
      "ExpectedSalary                  2566\n",
      "Length: 154, dtype: int64\n"
     ]
    }
   ],
   "source": [
    "print data_stack.count()"
   ]
  },
  {
   "cell_type": "code",
   "execution_count": null,
   "metadata": {
    "collapsed": true
   },
   "outputs": [],
   "source": []
  }
 ],
 "metadata": {
  "kernelspec": {
   "display_name": "Python 2",
   "language": "python",
   "name": "python2"
  },
  "language_info": {
   "codemirror_mode": {
    "name": "ipython",
    "version": 2
   },
   "file_extension": ".py",
   "mimetype": "text/x-python",
   "name": "python",
   "nbconvert_exporter": "python",
   "pygments_lexer": "ipython2",
   "version": "2.7.14"
  }
 },
 "nbformat": 4,
 "nbformat_minor": 2
}
