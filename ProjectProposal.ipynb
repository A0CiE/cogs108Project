{
 "cells": [
  {
   "cell_type": "markdown",
   "metadata": {},
   "source": [
    "# COGS 108 - Project Proposal"
   ]
  },
  {
   "cell_type": "markdown",
   "metadata": {},
   "source": [
    "## Important\n",
    "\n",
    "- Make sure all group members (3-5 people) are listed in the group members section.\n",
    "- ONE, and only one, member of your group should upload this notebook to TritonED. \n",
    "- Each member of the group will receive the same grade on this assignment. \n",
    "- Keep the file name the same: submit the file 'ProjectProposal.ipynb'"
   ]
  },
  {
   "cell_type": "markdown",
   "metadata": {},
   "source": [
    "## Overview"
   ]
  },
  {
   "cell_type": "markdown",
   "metadata": {},
   "source": [
    "Read the project description and detailed instructions for this assignment in the 'ProjectOutline' document."
   ]
  },
  {
   "cell_type": "markdown",
   "metadata": {},
   "source": [
    "## Group Members: Fill in the Student IDs of each group member here\n",
    "\n",
    "Replace the lines below to list each persons full student ID. Add lines as needed for your group size, and make sure each ID is listed on a separate line.\n",
    "\n",
    "- A53204571 Kuang Hsuan Lee\n",
    "- A13718766 Xinwen Wang\n",
    "- A14220453 Sunyue Lin\n",
    "- A14191154 Rui Ren\n",
    "\n"
   ]
  },
  {
   "cell_type": "markdown",
   "metadata": {},
   "source": [
    "### Research Question\n",
    "\n",
    "What is your research question? (1-2 sentences)"
   ]
  },
  {
   "cell_type": "markdown",
   "metadata": {},
   "source": [
    "Is a gender gap in salaries in American’s IT industry? If it does exist, how will other factor such as age and education level affects the gender gap?  Is it possible, when would it be possible to close the gender gap in U.S. IT industry?\n"
   ]
  },
  {
   "cell_type": "markdown",
   "metadata": {},
   "source": [
    "### Hypothesis\n",
    "\n",
    "What is your main hypothesis and predictions? (2-3 sentences)"
   ]
  },
  {
   "cell_type": "markdown",
   "metadata": {},
   "source": [
    "We believe if men and women worked in same job, and have similar experience and ability, they should earn about the same.\n",
    "Major factors contribute to such gender gap are career choice, education, age and etc.\n",
    "Closing gender gap would be extremely difficult. \n"
   ]
  },
  {
   "cell_type": "markdown",
   "metadata": {},
   "source": [
    "### Dataset(s)\n",
    "\n",
    "What data will you use to answer your question? Describe the dataset(s) in terms of number of observations, what kind of features it contains, etc. You must use at least one dataset containing at least approximately 1000 observations (if your data are smaller but you feel they are sufficient, email Prof. Voytek). You are welcome (and in fact recommended) to find multiple datasets! If you do so, describe each one, and briefly explain how you will combine them together. "
   ]
  },
  {
   "cell_type": "markdown",
   "metadata": {},
   "source": [
    "<b>Data1: \n",
    "IBM HR Analytics Employee Attrition & Performance </b>\n",
    "\n",
    "- Dataset Name: IBM HR Analytics Employee Attrition & Performance\n",
    "- Link to the dataset: https://www.kaggle.com/pavansubhasht/ibm-hr-analytics-attrition-dataset\n",
    "- Number of observations: 1470\n",
    "\n",
    "Although there are only 1470 data in this data set, there are rich features. We have gender, performance, involvement, satisfaction and education. In this way, we can analyze the data with different views and under different condition to discuss the main idea: whether or not men get higher salary than women. If so, does different factors such as education level affects the gender gap? That is, will the magnitude of gender gap in salaries differs when the other factor changes?\n",
    "\n",
    "<b>Data2: \n",
    "Stack Overflow Developer Survey, 2017 </b>\n",
    "\n",
    "- Dataset Name: Stack Overflow Developer Survey, 2017\n",
    "- Link to the dataset: https://www.kaggle.com/stackoverflow/so-survey-2017\n",
    "- Number of observations: 51392\n",
    "\n",
    "There are 51392 data in the dataset. However we will use few features: gender, salary, university and company size. In this data set, we also can analyze the gender wage gap in different company although these people are almost software engineer. It provides us a different view to discuss the gender wage gap.\n",
    "\n",
    "<b>How to combine them:</b>\n",
    "\n",
    "In IBM data set, the limit is we only have one company but many positions. However, in Stack overflow data set, we have different company and similar position.<p>\n",
    "We will obtain salary, gender, and education level fields from both datasets and merge them on those fields. For StackOverflow survey dataset, we can extract and sort the WorkStart field, which demonstrates individual’s working experience at IT companies. Therefore, we can analyze the statistics of a fraction of IT workplace, about the growth of male vs. female population and working experience affected salary difference. We might need more datasets that includes starting points of individual who devote to IT industry to draw a comprehensive map that includes a clear, and objective difference in gender. We will need a gender difference in related to time span map to reveal some other information in interest.\n",
    "\n"
   ]
  },
  {
   "cell_type": "markdown",
   "metadata": {},
   "source": [
    "### Background and Prior Work\n",
    "\n",
    "Why is this question of interest, what background information led you to your hypothesis, and why is this important?\n",
    "\n",
    "Find some relevant prior work, and reference those sources. Even if you think you have a totally novel question, find the most similar prior work that you can and discuss how it relates to your project. \n",
    "\n",
    "References can be research publications, but they need not be. Blogs, github repositories, company websites, etc., are all viable references if they are relevant to your project.\n",
    "\n",
    "(2-3 paragraphs, including at least 2 references)"
   ]
  },
  {
   "cell_type": "markdown",
   "metadata": {},
   "source": [
    "Gender gap has always been a debatable topic particularly at recent years studies receive its growing attention around the globe. Here in United State, country working on establishing gender equality for decades made huge progression narrowing the difference between women and men in health, education, economics and politics. However, we observed that tech-companies seems not affected by this grow and still having huge disparity over men. We found that in positions such as software developer, project manager, and computer systems administrator there is a 9:1 ratio in terms of men and women. We then suspect that dividing among college major between men and women must contribute to such gender disparity in job field. Research data prove we are correct; computer science and engineering, and electrical engineering are most male-dominated majors in America and has similar 9:1 men to women ratio. <p>\n",
    "\n",
    "Study in gender earning gap reflects in recent year men and women earns about the same if they work the same job. However, recent study on earnings of Uber drivers reveals that, men earned about 7 percent more per hour than women. Data shows that men drive much faster and worked longer a day will complete more trips ultimately leads to this gap. Realizing that working on same job, difference in experience and ability will cause earning gap between man and women.<p>\n",
    "\n",
    "Study shows that greater gender equality leads to better economic performance (in GDP). We just realized that gender gap is affected by many aspects, such as major division and working experiences, for some of those aspects are inevitably biased. But, we see those bias start to diminish over past few years when gender equality has grown its social noticeability. We would like to discuss viability to truly close the gender gap. We want to draw a conclusion by predicting when it is possible to reach a crossover in salary, major selection, workplace position, and etc. analyzing datasets collected over years, generate simulation of future trends.<p>\n",
    "References (include links):\n",
    "- https://www.payscale.com/gender-lifetime-earnings-gap\n",
    "- https://news.uchicago.edu/article/2018/02/08/study-uncovers-gender-gap-earnings-uber-drivers\n",
    "- https://www.glassdoor.com/research/studies/pipeline-problem-college-majors-gender-pay-gap/\n",
    "- https://economictimes.indiatimes.com/tech/ites/gender-equality-still-a-startup-at-technology-companies/articleshow/62924787.cms\n"
   ]
  },
  {
   "cell_type": "markdown",
   "metadata": {},
   "source": [
    "### Proposed Methods\n",
    "\n",
    "What methods will you use to analyze your data?\n",
    "\n",
    "- How 'clean' is the data? To the extent that it requires cleaning, how will you do so?\n",
    "- How will you analyze the data? Be as specific as you can. Briefly mention any pre-processing steps that are required for your methods (for example, checking data distributions and performing any transformations that may be required). Include a brief outline of how you will apply your chosen method(s). \n",
    "- What do you plan to report? Briefly mention any key visualizations you plan to create, and/or the kind of results you will be able to report that address your question (this could be, for example, the outcome of some statistical test(s), prediction error on a model, a model fit parameter, etc.).\n",
    "- Include a list of packages you expect to use for you project. If you plan to use packages we have not used in class, add a very brief description about them (a few words is sufficient). "
   ]
  },
  {
   "cell_type": "markdown",
   "metadata": {},
   "source": [
    "*Fill in your proposed methods information here:*\n",
    "\n",
    "*Data Cleaning (2-3 sentences)*\n",
    "There is no NAN in IBM data, but there are many NAN in Stack Overflow data. \n",
    "However we only need few columns in Stack Overflow, we will filter out the rows whose the important features is NAN.\n",
    "\n",
    "*Data Analysis (1-2 paragraphs)*\n",
    "For starter, we will compare whether it exists  gender salary gap in all IBM data and use T-test to test whether or not the result is statistically significant. Then, we will analyze the gap in different conditions (department, education, age) and do the statistical tests on them. \n",
    "In Stack Overflow dataset, we do the similar analysis on that and compare the result of IBM.\n",
    "\n",
    "*What to report (2-3 sentences)*\n",
    "We will use scatter_matrix as one form of visualization to show the correlation between different factors and gender gap. We run regression model and calculate standard error of the predicted regressor. We will also have hypothesis testing to see if the gender gap is statistically significant.\n",
    "\n",
    "Packages we plan to use:\n",
    "- pandas\n",
    "- scikit-learn"
   ]
  },
  {
   "cell_type": "markdown",
   "metadata": {},
   "source": [
    "### Ethics and Privacy\n",
    "\n",
    "Briefly acknowledge and address any potential issues of ethics and privacy for the proposed project. In particular:\n",
    "- <b>Do you have permission to use this data, for this purpose?</b><br>\n",
    "IBM and Stack Overflow are in Kaggle, which are open data, so we can use them.\n",
    "- <b>Are there privacy concerns regarding your datasets that you need to deal with, and/or terms of use that you need to comply with?</b><br>\n",
    "There is no privacy concerns in our data.\n",
    "- <b>Are there potential biases in your dataset(s), in terms of who it composes, and how it was collected, that may be problematic in terms of it allowing for equitable analysis? (For example, does your data exclude particular populations, or is it likely to reflect particular human biases in a way that could be a problem?)</b><br> \n",
    "For starter, the data would be collected in United State, it cannot inference the result to other country. <br>\n",
    "Furthermore, in IBM data, this is from only one company. In the other hand, in Stack Overflow data, the people have similar jobs.\n",
    "- <b>Are there any other issues related to your topic area, data, and/or analyses that are potentially problematic in terms of data privacy and equitable impact?</b><br>\n",
    "The problem is we would not inference the result to other places.<br>\n",
    "Moreover, the department and education is not very detail in IBM, which would lead to incorrect result. <br>\n",
    "On the other hand, the people in Stack Overflow are almost software engineers. We cannot inference the result to other occupations.<br>\n",
    "- <b>How will you handle any issues you identify?</b><br>\n",
    "In the future, if we have more data, we can handle the issues and do more comprehensive reports.\n",
    "(1-2 paragraphs)"
   ]
  },
  {
   "cell_type": "markdown",
   "metadata": {},
   "source": [
    "### Discussion\n",
    "\n",
    "Discuss your project, looking forward to what your results might mean, how they fit it in with what is already known, and what problems you may encounter. \n",
    "\n",
    "In particular:\n",
    "- If your analyses and hypotheses are correct, what will be the contribution of this project to the topic domain? \n",
    "- Alternatively, what will you do if you methods don't work and/or your hypotheses are wrong? \n",
    "- What are the potential pitfalls and potential confounds of your data and/or methods that may cause problems, and/or influence your interpretations?\n",
    "\n",
    "(2-3 paragraphs)"
   ]
  },
  {
   "cell_type": "markdown",
   "metadata": {},
   "source": [
    "If the analysis and hypotheses are correct, we will provide the truth whether or not a gender gap exists in salaries. It will help company or government to understand which factor is important to lead to them different. And the government can figure out the solution to decrease the gap.<p>\n",
    "If the method does not work, we will provide the limitation on that and provide other researchers the analysis methods on it to do this research further. In the future, we will have more high-quality data, the same method will get a better result.<p>\n",
    "First, the data size is not enough to inference to the real world. In total, we only have 50000 data but in the real world, there are about 7.5 billion people and the workers are at least 1 billion. <p>\n",
    "Second, the IT company we analyzed is only one (IBM). Even with IBM data, we cannot inference the result to whole IBM workers or whole IT industry because we only have 1000 data. On the other hand, even we have 50000 Stack Overflow data, it cannot be a good proxy for all software engineers. Most software engineers data are not collected by Stack Overflow.<p>\n",
    "Third, for the education part, even with same degree (university), there are a huge variance in the degree. The performance of top school would be different with the ones of the other schools.\n",
    "Fourth, there would be age difference among the data, which means longer they work, higher position leads to higher salary rate.  <p>\n",
    "These factors would lead our result weak and not statistically significant.\n"
   ]
  },
  {
   "cell_type": "code",
   "execution_count": null,
   "metadata": {
    "collapsed": true
   },
   "outputs": [],
   "source": []
  }
 ],
 "metadata": {
  "kernelspec": {
   "display_name": "Python 3",
   "language": "python",
   "name": "python3"
  },
  "language_info": {
   "codemirror_mode": {
    "name": "ipython",
    "version": 3
   },
   "file_extension": ".py",
   "mimetype": "text/x-python",
   "name": "python",
   "nbconvert_exporter": "python",
   "pygments_lexer": "ipython3",
   "version": "3.6.4"
  }
 },
 "nbformat": 4,
 "nbformat_minor": 2
}
